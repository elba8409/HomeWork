{
 "cells": [
  {
   "cell_type": "markdown",
   "metadata": {},
   "source": [
    "Вы работаете секретарем и вам постоянно приходят различные документы. Вы должны быть очень внимательны, чтобы не потерять ни один документ. Каталог документов хранится в следующем виде:"
   ]
  },
  {
   "cell_type": "code",
   "execution_count": 1,
   "metadata": {},
   "outputs": [],
   "source": [
    "documents = [\n",
    "    {'type': 'passport', 'number': '2207 876234', 'name': 'Василий Гупкин'},\n",
    "    {'type': 'invoice', 'number': '11-2', 'name': 'Геннадий Покемонов'},\n",
    "    {'type': 'insurance', 'number': '10006', 'name': 'Аристарх Павлов'}\n",
    "]"
   ]
  },
  {
   "cell_type": "markdown",
   "metadata": {},
   "source": [
    "Перечень полок, на которых находятся документы хранится в следующем виде:"
   ]
  },
  {
   "cell_type": "code",
   "execution_count": 2,
   "metadata": {},
   "outputs": [],
   "source": [
    "directories = {\n",
    "    '1': ['2207 876234', '11-2'],\n",
    "    '2': ['10006'],\n",
    "    '3': []\n",
    "}"
   ]
  },
  {
   "cell_type": "markdown",
   "metadata": {},
   "source": [
    "Необходимо реализовать пользовательские команды (внимание! это не название функций, которые должны быть выразительными, а команды, которые вводит пользователь, чтобы получить необходимый результат):\n",
    "  \n",
    "- p – people – команда, которая спросит номер документа и выведет имя человека, которому он принадлежит;  \n",
    "- s – shelf – команда, которая спросит номер документа и выведет номер полки, на которой он находится  \n",
    "Правильно обработайте ситуацию, когда пользователь будет вводить несуществующий документ.\n",
    "- l – list – команда, которая выведет список всех документов в формате   \n",
    "**passport \"2207 876234\" \"Василий Гупкин\"**  \n",
    "- as – add shelf – команда, которая спросит номер новой полки и добавит ее в перечень\n",
    "- d – delete – команда, которая спросит номер документа и удалит его из каталога и из перечня полок. Предусмотрите сценарий, когда пользователь вводит несуществующий документ;  \n",
    "- m – move – команда, которая спросит номер документа и целевую полку и переместит его с текущей полки на целевую. Корректно обработайте кейсы, когда пользователь пытается переместить несуществующий документ или переместить документ на несуществующую полку;  \n",
    "- a – add – команда, которая добавит новый документ в каталог и в перечень полок, спросив его номер, тип, имя владельца и номер полки, на котором он будет храниться."
   ]
  },
  {
   "cell_type": "code",
   "execution_count": 3,
   "metadata": {},
   "outputs": [],
   "source": [
    "# p – people – команда, которая спросит номер документа и выведет имя человека, которому он принадлежит\n",
    "def people_document(arg_number):\n",
    "    for doc_number in documents:\n",
    "        if doc_number[\"number\"] == arg_number:\n",
    "            print(' Владелец документа: ', doc_number[\"name\"])\n",
    "            break\n",
    "    else:\n",
    "        print('  Внимание! Такого документа - нет в архиве.')"
   ]
  },
  {
   "cell_type": "code",
   "execution_count": 4,
   "metadata": {},
   "outputs": [],
   "source": [
    "# s – shelf – команда, которая спросит номер документа и выведет номер полки, на которой он находится\n",
    "def shelf_number(arg_number):\n",
    "    shelf_break = False\n",
    "    for shelf_directory in directories.items():\n",
    "        for doc_number in shelf_directory[1]:\n",
    "            if doc_number == arg_number:\n",
    "                print('Данный документ находится на полке - ', shelf_directory[0])\n",
    "                shelf_break = True\n",
    "                break\n",
    "        if shelf_break == True:\n",
    "            break\n",
    "    else:\n",
    "        print('  Внимание! Документа нет на полке.')"
   ]
  },
  {
   "cell_type": "code",
   "execution_count": 5,
   "metadata": {},
   "outputs": [],
   "source": [
    "# l – list – команда, которая выведет список всех документов в формате passport \"2207 876234\" \"Василий Гупкин\"\n",
    "def list_documents():\n",
    "    for document in documents:\n",
    "        print('{} \"{}\" \"{}\"'.format(document['type'], document['number'], document['name']))"
   ]
  },
  {
   "cell_type": "code",
   "execution_count": 6,
   "metadata": {},
   "outputs": [],
   "source": [
    "# as – add shelf – команда, которая спросит номер новой полки и добавит ее в перечень\n",
    "def add_shelf_num(arg_new_shelf):\n",
    "    if int(arg_new_shelf) == 1 or int(arg_new_shelf) == 2 or int(arg_new_shelf) == 3:\n",
    "        print('Такая полка уже есть!')\n",
    "    else:\n",
    "        new_dict = {arg_new_shelf: []}\n",
    "        directories.update(new_dict)\n",
    "        print('Полка добавлена.')"
   ]
  },
  {
   "cell_type": "code",
   "execution_count": 7,
   "metadata": {},
   "outputs": [],
   "source": [
    "# d – delete – команда, которая спросит номер документа и удалит его из каталога и из перечня полок.\n",
    "def del_document(arg_number):\n",
    "    break_doc = False\n",
    "    for document in documents:\n",
    "        if document['number'] == arg_number:\n",
    "            document['number'] = 'Удален'\n",
    "            for directory_value in directories.values():\n",
    "                if arg_number in directory_value:\n",
    "                    directory_value.remove(arg_number)\n",
    "                    print('Номер документа удален из каталога и полки!')\n",
    "                    break_doc = True\n",
    "                    break\n",
    "            if break_doc == True:\n",
    "                break\n",
    "    else:\n",
    "        print('Внимание! Такого документа - нет.')"
   ]
  },
  {
   "cell_type": "code",
   "execution_count": 8,
   "metadata": {},
   "outputs": [],
   "source": [
    "# m – m – move – команда, которая спросит номер документа и целевую полку и переместит его с текущей полки на целевую.\n",
    "def move_document(arg_number, arg_another_shelf):\n",
    "    for directory_value in directories.values():\n",
    "        if arg_number in directory_value:\n",
    "            directory_value.remove(arg_number)\n",
    "            directories[arg_another_shelf].append(arg_number)\n",
    "            print('Документ перемещён на указанную полку!')\n",
    "            break\n",
    "    else:\n",
    "        print('Внимание! Такого документа - нет, введите номер правильно.')\n"
   ]
  },
  {
   "cell_type": "code",
   "execution_count": 9,
   "metadata": {},
   "outputs": [],
   "source": [
    "# a – add – команда, которая добавит новый документ в каталог и в перечень полок, спросив его номер, тип, имя владельца и номер полки, на котором он будет храниться.\n",
    "def add_new_document(agr_type, arg_number, arg_name, arg_dir_number):\n",
    "    if int(arg_dir_number) == 1 or int(arg_dir_number) == 2 or int(arg_dir_number) == 3:\n",
    "        documents.append({\"type\": agr_type, \"number\": arg_number, \"name\": arg_name})\n",
    "        directories[arg_dir_number].append(arg_number)\n",
    "        print('Ваш документ добавлен в Архив!')\n",
    "    else:\n",
    "        print('Внимание! Такой полки не существует.')"
   ]
  },
  {
   "cell_type": "code",
   "execution_count": 10,
   "metadata": {},
   "outputs": [
    {
     "name": "stdout",
     "output_type": "stream",
     "text": [
      "\n",
      "     Выберете одну из команд: p, s, l, as, d, m, a \n",
      "     Для выхода наберите: exit или q \n",
      "     Введите команду: p\n",
      "\n",
      "Введите номер документа:2207 876234\n",
      " Владелец документа:  Василий Гупкин\n",
      "\n",
      "     Выберете одну из команд: p, s, l, as, d, m, a \n",
      "     Для выхода наберите: exit или q \n",
      "     Введите команду: s\n",
      "\n",
      "Введите номер документа:2207 876234\n",
      "Данный документ находится на полке -  1\n",
      "\n",
      "     Выберете одну из команд: p, s, l, as, d, m, a \n",
      "     Для выхода наберите: exit или q \n",
      "     Введите команду: exit\n"
     ]
    }
   ],
   "source": [
    "# Основное меню для запуска команд\n",
    "def main_menu():\n",
    "    while True:\n",
    "        command = input('\\n \\\n",
    "    Выберете одну из команд: p, s, l, as, d, m, a \\n \\\n",
    "    Для выхода наберите: exit или q \\n \\\n",
    "    Введите команду: ')\n",
    "        if command == 'p':\n",
    "            people_document(input('\\nВведите номер документа:'))\n",
    "        elif command == 's':\n",
    "            shelf_number(input('\\nВведите номер документа:'))   \n",
    "        elif command == 'l':\n",
    "            list_documents()\n",
    "        elif command == 'as':\n",
    "            add_shelf_num(input('\\nДобавить новую полку. Введите номер:'))\n",
    "            print_document_from_archive() \n",
    "        elif command == 'a':\n",
    "            add_new_document(input('\\nВведите тип документа (passport,invoice,insurance...):'),\n",
    "                             input('Введите номер документа: '), input('Введите имя: '),\n",
    "                             input('Введите номер полки (1, 2, 3): '))\n",
    "            print_document_from_archive()\n",
    "        elif command == 'd':\n",
    "            del_document(input('\\nВведите номер документа:'))\n",
    "            print_document_from_archive()\n",
    "        elif command == 'm':\n",
    "            move_document(input('\\nВведите номер документа:'),\n",
    "                          input('Введите номер полки, куда перенести документ: '))\n",
    "            print_document_from_archive()\n",
    "        elif command == 'a':\n",
    "            add_new_document(input('\\nВведите тип документа (passport,invoice,insurance...):'),\n",
    "                             input('Введите номер документа: '), input('Введите имя: '),\n",
    "                             input('Введите номер полки (1, 2, 3): '))\n",
    "        elif command == 'exit' or command == 'q':\n",
    "            break\n",
    "\n",
    "\n",
    "main_menu()"
   ]
  },
  {
   "cell_type": "code",
   "execution_count": null,
   "metadata": {},
   "outputs": [],
   "source": []
  },
  {
   "cell_type": "code",
   "execution_count": null,
   "metadata": {},
   "outputs": [],
   "source": []
  }
 ],
 "metadata": {
  "kernelspec": {
   "display_name": "Python 3",
   "language": "python",
   "name": "python3"
  },
  "language_info": {
   "codemirror_mode": {
    "name": "ipython",
    "version": 3
   },
   "file_extension": ".py",
   "mimetype": "text/x-python",
   "name": "python",
   "nbconvert_exporter": "python",
   "pygments_lexer": "ipython3",
   "version": "3.7.4"
  }
 },
 "nbformat": 4,
 "nbformat_minor": 2
}
