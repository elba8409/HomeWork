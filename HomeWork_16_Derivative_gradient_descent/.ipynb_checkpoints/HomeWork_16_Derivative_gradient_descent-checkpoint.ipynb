{
 "cells": [
  {
   "cell_type": "code",
   "execution_count": 3,
   "metadata": {},
   "outputs": [],
   "source": [
    "import numpy as np\n",
    "from scipy.optimize import approx_fprime, minimize"
   ]
  },
  {
   "cell_type": "markdown",
   "metadata": {},
   "source": [
    "##Задание 1\n",
    "Придумайте функции со следующими свойствами (в a) b) c) область определения X любая, какая вам удобна, главное - функция с нужными свойствами):\n",
    "\n",
    "a) бесконечное количество локальных экстремумов\n",
    "\n",
    "b) 2 локальных экстремума\n",
    "\n",
    "с) 3 локальных экстремума\n",
    "\n",
    "d*) область определения функции - 1 точка"
   ]
  },
  {
   "cell_type": "markdown",
   "metadata": {},
   "source": [
    "а) f(x) = sin(x)+1\n",
    "b) f(x) = 2x^2 + 3\n",
    "c) f(x) = 2 / x -2\n",
    "d) f(x) = x ^2"
   ]
  },
  {
   "cell_type": "markdown",
   "metadata": {},
   "source": [
    "##Задание 2\n",
    "Посчитайте 1-ую и 2-ую производные функции (на бумажке):\n",
    "\n",
    "f(x) = sin^2(2x+1)\n",
    "решение во вложении "
   ]
  },
  {
   "cell_type": "markdown",
   "metadata": {},
   "source": [
    "##Задание 3:\n",
    "Посчитайте частные производные функции в точкe (на бумажке или в LaTeX и на numpy):\n",
    "\n",
    "f(x,y)=2x^2y^3 + 1/x + y^2x + 7 в точке (1,2)\n",
    "решение во вложении"
   ]
  },
  {
   "cell_type": "code",
   "execution_count": null,
   "metadata": {},
   "outputs": [],
   "source": [
    "##Задание 4:\n",
    "Градиентный спуск своими руками"
   ]
  },
  {
   "cell_type": "code",
   "execution_count": 4,
   "metadata": {},
   "outputs": [],
   "source": [
    "def f(x):\n",
    "    return (x[0]**2) + (x[1]**2)"
   ]
  },
  {
   "cell_type": "code",
   "execution_count": 5,
   "metadata": {},
   "outputs": [],
   "source": [
    "x = np.array([100, 200])\n",
    "Ir = 0.1"
   ]
  },
  {
   "cell_type": "code",
   "execution_count": 6,
   "metadata": {},
   "outputs": [],
   "source": [
    "for i in range(100):\n",
    "    grad = approx_fprime(x, f, epsilon=1e-6) \n",
    "    x = x - Ir * grad \n"
   ]
  },
  {
   "cell_type": "code",
   "execution_count": 7,
   "metadata": {},
   "outputs": [
    {
     "name": "stdout",
     "output_type": "stream",
     "text": [
      "Минимум достигается в:  [-4.7962964e-07 -4.5925928e-07]\n",
      "Значение функции в минимуме:  4.4096367809465753e-13\n"
     ]
    }
   ],
   "source": [
    "print(\"Минимум достигается в: \", x)\n",
    "print(\"Значение функции в минимуме: \", f(x))"
   ]
  },
  {
   "cell_type": "code",
   "execution_count": 8,
   "metadata": {},
   "outputs": [
    {
     "name": "stdout",
     "output_type": "stream",
     "text": [
      "Optimization terminated successfully.\n",
      "         Current function value: 0.000000\n",
      "         Iterations: 1\n",
      "         Function evaluations: 3\n"
     ]
    }
   ],
   "source": [
    "res = minimize(f, x, method='nelder-mead', options={'xtol': 1e-6, 'disp': True})"
   ]
  },
  {
   "cell_type": "code",
   "execution_count": null,
   "metadata": {},
   "outputs": [],
   "source": []
  }
 ],
 "metadata": {
  "kernelspec": {
   "display_name": "Python 3",
   "language": "python",
   "name": "python3"
  },
  "language_info": {
   "codemirror_mode": {
    "name": "ipython",
    "version": 3
   },
   "file_extension": ".py",
   "mimetype": "text/x-python",
   "name": "python",
   "nbconvert_exporter": "python",
   "pygments_lexer": "ipython3",
   "version": "3.7.4"
  }
 },
 "nbformat": 4,
 "nbformat_minor": 2
}
