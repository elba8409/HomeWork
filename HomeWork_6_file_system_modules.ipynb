{
 "cells": [
  {
   "cell_type": "markdown",
   "metadata": {},
   "source": [
    "####Домашнее задание\n",
    "Переведите содержимое файла purchase_log.txt в словарь purchases вида:\n",
    "\n",
    "{'1840e0b9d4': 'Продукты', ...}\n",
    "Для каждого user_id в файле visit_log.csv добавьте третий столбец с категорией покупки (если покупка была).\n",
    "\n",
    "Запишите в файл funnel.csv визиты из файла visit_log.csv, в которых были покупки с указанием категории.\n",
    "\n",
    "Учтите условия на данные:\n",
    "\n",
    "содержимое purchase_log.txt помещается в оперативную память компьютера\n",
    "содержимое visit_log.csv - нет; используйте только построчную обработку этого файла"
   ]
  },
  {
   "cell_type": "code",
   "execution_count": null,
   "metadata": {},
   "outputs": [],
   "source": [
    "import json\n",
    "purchases_temp = {}\n",
    "purchases = {}\n",
    "i = 0\n",
    "with open('purchase_log.txt', 'r') as q:\n",
    "    for line in q:\n",
    "        line = line.strip()\n",
    "        purchases_temp = json.loads(line)\n",
    "        purchases [purchases_temp['user_id']] = purchases_temp['category']\n",
    "        i += 1\n",
    "        if i > 10:\n",
    "            break\n",
    "    print(purchases)"
   ]
  },
  {
   "cell_type": "code",
   "execution_count": null,
   "metadata": {},
   "outputs": [],
   "source": [
    "i = 0\n",
    "with open('visit_log.csv', 'r') as f:\n",
    "    with open('visits_cotegory.csv', 'w') as f2:\n",
    "        with open ('purchase_log.txt','r') as f3:\n",
    "            for line in f:\n",
    "                lst = line.strip().split(',')\n",
    "                if purchases_temp['user_id'] in lst:\n",
    "                    lst = line.strip().split(',')[0]\n",
    "                else:\n",
    "                    lst\n",
    "                f2.write(','.join(lst) +'\\n')"
   ]
  },
  {
   "cell_type": "code",
   "execution_count": null,
   "metadata": {},
   "outputs": [],
   "source": [
    "i = 0\n",
    "with open('visits_cotegory.csv', 'r') as f:\n",
    "    with open('funnel.csv', 'w') as f2:        \n",
    "            for line in f:\n",
    "                lst = line.strip().split(',')\n",
    "                if purchases_temp['user_id'] in lst:\n",
    "                    lst = line.strip().split(',')[0]\n",
    "                else:\n",
    "                    lst\n",
    "                f2.write(','.join(lst) +'\\n')"
   ]
  }
 ],
 "metadata": {
  "kernelspec": {
   "display_name": "Python 3",
   "language": "python",
   "name": "python3"
  },
  "language_info": {
   "codemirror_mode": {
    "name": "ipython",
    "version": 3
   },
   "file_extension": ".py",
   "mimetype": "text/x-python",
   "name": "python",
   "nbconvert_exporter": "python",
   "pygments_lexer": "ipython3",
   "version": "3.7.4"
  }
 },
 "nbformat": 4,
 "nbformat_minor": 2
}
